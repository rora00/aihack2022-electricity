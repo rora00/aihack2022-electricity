{
 "cells": [
  {
   "cell_type": "code",
   "execution_count": 1,
   "metadata": {},
   "outputs": [],
   "source": [
    "import pandas as pd\n",
    "import numpy as np\n",
    "import matplotlib.pyplot as plt\n",
    "import sklearn as skl\n",
    "import statsmodels.formula.api as smf\n",
    "#from stargazer.stargazer import Stargazer"
   ]
  },
  {
   "cell_type": "code",
   "execution_count": 2,
   "metadata": {},
   "outputs": [],
   "source": [
    "epex = pd.read_csv('epex_day_ahead_price.csv')"
   ]
  },
  {
   "cell_type": "code",
   "execution_count": 3,
   "metadata": {},
   "outputs": [
    {
     "data": {
      "text/html": [
       "<div>\n",
       "<style scoped>\n",
       "    .dataframe tbody tr th:only-of-type {\n",
       "        vertical-align: middle;\n",
       "    }\n",
       "\n",
       "    .dataframe tbody tr th {\n",
       "        vertical-align: top;\n",
       "    }\n",
       "\n",
       "    .dataframe thead th {\n",
       "        text-align: right;\n",
       "    }\n",
       "</style>\n",
       "<table border=\"1\" class=\"dataframe\">\n",
       "  <thead>\n",
       "    <tr style=\"text-align: right;\">\n",
       "      <th></th>\n",
       "      <th>timestamp</th>\n",
       "      <th>apx_da_hourly</th>\n",
       "    </tr>\n",
       "  </thead>\n",
       "  <tbody>\n",
       "    <tr>\n",
       "      <th>0</th>\n",
       "      <td>2019-03-31 23:00:00+00:00</td>\n",
       "      <td>26.43</td>\n",
       "    </tr>\n",
       "    <tr>\n",
       "      <th>1</th>\n",
       "      <td>2019-03-31 23:30:00+00:00</td>\n",
       "      <td>26.43</td>\n",
       "    </tr>\n",
       "    <tr>\n",
       "      <th>2</th>\n",
       "      <td>2019-04-01 00:00:00+00:00</td>\n",
       "      <td>29.24</td>\n",
       "    </tr>\n",
       "    <tr>\n",
       "      <th>3</th>\n",
       "      <td>2019-04-01 00:30:00+00:00</td>\n",
       "      <td>29.24</td>\n",
       "    </tr>\n",
       "    <tr>\n",
       "      <th>4</th>\n",
       "      <td>2019-04-01 01:00:00+00:00</td>\n",
       "      <td>35.10</td>\n",
       "    </tr>\n",
       "  </tbody>\n",
       "</table>\n",
       "</div>"
      ],
      "text/plain": [
       "                   timestamp  apx_da_hourly\n",
       "0  2019-03-31 23:00:00+00:00          26.43\n",
       "1  2019-03-31 23:30:00+00:00          26.43\n",
       "2  2019-04-01 00:00:00+00:00          29.24\n",
       "3  2019-04-01 00:30:00+00:00          29.24\n",
       "4  2019-04-01 01:00:00+00:00          35.10"
      ]
     },
     "execution_count": 3,
     "metadata": {},
     "output_type": "execute_result"
    }
   ],
   "source": [
    "epex.head()"
   ]
  },
  {
   "cell_type": "code",
   "execution_count": 4,
   "metadata": {},
   "outputs": [
    {
     "data": {
      "image/png": "[encoded data removed]",
      "text/plain": [
       "<Figure size 432x288 with 1 Axes>"
      ]
     },
     "metadata": {
      "needs_background": "light"
     },
     "output_type": "display_data"
    }
   ],
   "source": [
    "# price over a couple of days in 2019\n",
    "plt.plot(epex.head(48*7)['timestamp'], epex.head(48*7)['apx_da_hourly'])\n",
    "plt.show()"
   ]
  },
  {
   "cell_type": "code",
   "execution_count": 5,
   "metadata": {
    "scrolled": true
   },
   "outputs": [
    {
     "data": {
      "text/html": [
       "<div>\n",
       "<style scoped>\n",
       "    .dataframe tbody tr th:only-of-type {\n",
       "        vertical-align: middle;\n",
       "    }\n",
       "\n",
       "    .dataframe tbody tr th {\n",
       "        vertical-align: top;\n",
       "    }\n",
       "\n",
       "    .dataframe thead th {\n",
       "        text-align: right;\n",
       "    }\n",
       "</style>\n",
       "<table border=\"1\" class=\"dataframe\">\n",
       "  <thead>\n",
       "    <tr style=\"text-align: right;\">\n",
       "      <th></th>\n",
       "      <th>apx_da_hourly</th>\n",
       "      <th>h</th>\n",
       "      <th>m</th>\n",
       "      <th>y</th>\n",
       "      <th>mth</th>\n",
       "      <th>d</th>\n",
       "    </tr>\n",
       "  </thead>\n",
       "  <tbody>\n",
       "    <tr>\n",
       "      <th>0</th>\n",
       "      <td>26.43</td>\n",
       "      <td>23</td>\n",
       "      <td>00</td>\n",
       "      <td>2019</td>\n",
       "      <td>03</td>\n",
       "      <td>31</td>\n",
       "    </tr>\n",
       "    <tr>\n",
       "      <th>1</th>\n",
       "      <td>26.43</td>\n",
       "      <td>23</td>\n",
       "      <td>30</td>\n",
       "      <td>2019</td>\n",
       "      <td>03</td>\n",
       "      <td>31</td>\n",
       "    </tr>\n",
       "    <tr>\n",
       "      <th>2</th>\n",
       "      <td>29.24</td>\n",
       "      <td>00</td>\n",
       "      <td>00</td>\n",
       "      <td>2019</td>\n",
       "      <td>04</td>\n",
       "      <td>01</td>\n",
       "    </tr>\n",
       "    <tr>\n",
       "      <th>3</th>\n",
       "      <td>29.24</td>\n",
       "      <td>00</td>\n",
       "      <td>30</td>\n",
       "      <td>2019</td>\n",
       "      <td>04</td>\n",
       "      <td>01</td>\n",
       "    </tr>\n",
       "    <tr>\n",
       "      <th>4</th>\n",
       "      <td>35.10</td>\n",
       "      <td>01</td>\n",
       "      <td>00</td>\n",
       "      <td>2019</td>\n",
       "      <td>04</td>\n",
       "      <td>01</td>\n",
       "    </tr>\n",
       "    <tr>\n",
       "      <th>...</th>\n",
       "      <td>...</td>\n",
       "      <td>...</td>\n",
       "      <td>...</td>\n",
       "      <td>...</td>\n",
       "      <td>...</td>\n",
       "      <td>...</td>\n",
       "    </tr>\n",
       "    <tr>\n",
       "      <th>47853</th>\n",
       "      <td>315.00</td>\n",
       "      <td>21</td>\n",
       "      <td>30</td>\n",
       "      <td>2021</td>\n",
       "      <td>12</td>\n",
       "      <td>22</td>\n",
       "    </tr>\n",
       "    <tr>\n",
       "      <th>47854</th>\n",
       "      <td>276.85</td>\n",
       "      <td>22</td>\n",
       "      <td>00</td>\n",
       "      <td>2021</td>\n",
       "      <td>12</td>\n",
       "      <td>22</td>\n",
       "    </tr>\n",
       "    <tr>\n",
       "      <th>47855</th>\n",
       "      <td>276.85</td>\n",
       "      <td>22</td>\n",
       "      <td>30</td>\n",
       "      <td>2021</td>\n",
       "      <td>12</td>\n",
       "      <td>22</td>\n",
       "    </tr>\n",
       "    <tr>\n",
       "      <th>47856</th>\n",
       "      <td>325.40</td>\n",
       "      <td>23</td>\n",
       "      <td>00</td>\n",
       "      <td>2021</td>\n",
       "      <td>12</td>\n",
       "      <td>22</td>\n",
       "    </tr>\n",
       "    <tr>\n",
       "      <th>47857</th>\n",
       "      <td>325.40</td>\n",
       "      <td>23</td>\n",
       "      <td>30</td>\n",
       "      <td>2021</td>\n",
       "      <td>12</td>\n",
       "      <td>22</td>\n",
       "    </tr>\n",
       "  </tbody>\n",
       "</table>\n",
       "<p>47858 rows × 6 columns</p>\n",
       "</div>"
      ],
      "text/plain": [
       "       apx_da_hourly   h   m     y mth   d\n",
       "0              26.43  23  00  2019  03  31\n",
       "1              26.43  23  30  2019  03  31\n",
       "2              29.24  00  00  2019  04  01\n",
       "3              29.24  00  30  2019  04  01\n",
       "4              35.10  01  00  2019  04  01\n",
       "...              ...  ..  ..   ...  ..  ..\n",
       "47853         315.00  21  30  2021  12  22\n",
       "47854         276.85  22  00  2021  12  22\n",
       "47855         276.85  22  30  2021  12  22\n",
       "47856         325.40  23  00  2021  12  22\n",
       "47857         325.40  23  30  2021  12  22\n",
       "\n",
       "[47858 rows x 6 columns]"
      ]
     },
     "execution_count": 5,
     "metadata": {},
     "output_type": "execute_result"
    }
   ],
   "source": [
    "# data cleaning - changing timestamp to y, m, d, h, m, s\n",
    "epex[['date','time']] = epex['timestamp'].str.split(' ', expand=True)\n",
    "epex[['time','z']] = epex['time'].str.split('+', expand=True)\n",
    "epex[['h','m', 's']] = epex['time'].str.split(':', expand=True)\n",
    "epex[['y','mth', 'd']] = epex['date'].str.split('-', expand=True)\n",
    "epex.drop(['timestamp', 'date', 'time', 'z', 's'], axis=1, inplace=True)\n",
    "epex"
   ]
  },
  {
   "cell_type": "code",
   "execution_count": 6,
   "metadata": {
    "scrolled": true
   },
   "outputs": [
    {
     "data": {
      "text/html": [
       "<div>\n",
       "<style scoped>\n",
       "    .dataframe tbody tr th:only-of-type {\n",
       "        vertical-align: middle;\n",
       "    }\n",
       "\n",
       "    .dataframe tbody tr th {\n",
       "        vertical-align: top;\n",
       "    }\n",
       "\n",
       "    .dataframe thead th {\n",
       "        text-align: right;\n",
       "    }\n",
       "</style>\n",
       "<table border=\"1\" class=\"dataframe\">\n",
       "  <thead>\n",
       "    <tr style=\"text-align: right;\">\n",
       "      <th></th>\n",
       "      <th>apx_da_hourly</th>\n",
       "      <th>h</th>\n",
       "      <th>y</th>\n",
       "      <th>mth</th>\n",
       "      <th>d</th>\n",
       "    </tr>\n",
       "  </thead>\n",
       "  <tbody>\n",
       "    <tr>\n",
       "      <th>0</th>\n",
       "      <td>26.43</td>\n",
       "      <td>23</td>\n",
       "      <td>2019</td>\n",
       "      <td>03</td>\n",
       "      <td>31</td>\n",
       "    </tr>\n",
       "    <tr>\n",
       "      <th>2</th>\n",
       "      <td>29.24</td>\n",
       "      <td>00</td>\n",
       "      <td>2019</td>\n",
       "      <td>04</td>\n",
       "      <td>01</td>\n",
       "    </tr>\n",
       "    <tr>\n",
       "      <th>4</th>\n",
       "      <td>35.10</td>\n",
       "      <td>01</td>\n",
       "      <td>2019</td>\n",
       "      <td>04</td>\n",
       "      <td>01</td>\n",
       "    </tr>\n",
       "    <tr>\n",
       "      <th>6</th>\n",
       "      <td>30.91</td>\n",
       "      <td>02</td>\n",
       "      <td>2019</td>\n",
       "      <td>04</td>\n",
       "      <td>01</td>\n",
       "    </tr>\n",
       "    <tr>\n",
       "      <th>8</th>\n",
       "      <td>32.26</td>\n",
       "      <td>03</td>\n",
       "      <td>2019</td>\n",
       "      <td>04</td>\n",
       "      <td>01</td>\n",
       "    </tr>\n",
       "    <tr>\n",
       "      <th>...</th>\n",
       "      <td>...</td>\n",
       "      <td>...</td>\n",
       "      <td>...</td>\n",
       "      <td>...</td>\n",
       "      <td>...</td>\n",
       "    </tr>\n",
       "    <tr>\n",
       "      <th>47848</th>\n",
       "      <td>360.60</td>\n",
       "      <td>19</td>\n",
       "      <td>2021</td>\n",
       "      <td>12</td>\n",
       "      <td>22</td>\n",
       "    </tr>\n",
       "    <tr>\n",
       "      <th>47850</th>\n",
       "      <td>318.40</td>\n",
       "      <td>20</td>\n",
       "      <td>2021</td>\n",
       "      <td>12</td>\n",
       "      <td>22</td>\n",
       "    </tr>\n",
       "    <tr>\n",
       "      <th>47852</th>\n",
       "      <td>315.00</td>\n",
       "      <td>21</td>\n",
       "      <td>2021</td>\n",
       "      <td>12</td>\n",
       "      <td>22</td>\n",
       "    </tr>\n",
       "    <tr>\n",
       "      <th>47854</th>\n",
       "      <td>276.85</td>\n",
       "      <td>22</td>\n",
       "      <td>2021</td>\n",
       "      <td>12</td>\n",
       "      <td>22</td>\n",
       "    </tr>\n",
       "    <tr>\n",
       "      <th>47856</th>\n",
       "      <td>325.40</td>\n",
       "      <td>23</td>\n",
       "      <td>2021</td>\n",
       "      <td>12</td>\n",
       "      <td>22</td>\n",
       "    </tr>\n",
       "  </tbody>\n",
       "</table>\n",
       "<p>23929 rows × 5 columns</p>\n",
       "</div>"
      ],
      "text/plain": [
       "       apx_da_hourly   h     y mth   d\n",
       "0              26.43  23  2019  03  31\n",
       "2              29.24  00  2019  04  01\n",
       "4              35.10  01  2019  04  01\n",
       "6              30.91  02  2019  04  01\n",
       "8              32.26  03  2019  04  01\n",
       "...              ...  ..   ...  ..  ..\n",
       "47848         360.60  19  2021  12  22\n",
       "47850         318.40  20  2021  12  22\n",
       "47852         315.00  21  2021  12  22\n",
       "47854         276.85  22  2021  12  22\n",
       "47856         325.40  23  2021  12  22\n",
       "\n",
       "[23929 rows x 5 columns]"
      ]
     },
     "execution_count": 6,
     "metadata": {},
     "output_type": "execute_result"
    }
   ],
   "source": [
    "# drop duplicate prices every 30 mins\n",
    "epex = epex.drop(epex[epex.m == '30'].index)\n",
    "epex.drop('m', axis=1, inplace=True)\n",
    "epex"
   ]
  },
  {
   "cell_type": "code",
   "execution_count": 7,
   "metadata": {},
   "outputs": [
    {
     "data": {
      "text/plain": [
       "44.81351300799187"
      ]
     },
     "execution_count": 7,
     "metadata": {},
     "output_type": "execute_result"
    }
   ],
   "source": [
    "#seasonality: we split year in four seasons: \n",
    "#spring: MAR-APR-MAI, summer: JUN-JUL-AUG, automn: SEP-OKT-NOV, winter: DEC-JAN-FEB\n",
    "epex_yr = list()\n",
    "epex_spr = epex\n",
    "epex_spr =  epex_spr.drop(epex_spr[epex_spr.mth == '01'].index)\n",
    "epex_spr =  epex_spr.drop(epex_spr[epex_spr.mth == '02'].index)\n",
    "epex_spr =  epex_spr.drop(epex_spr[epex_spr.mth == '06'].index)\n",
    "epex_spr =  epex_spr.drop(epex_spr[epex_spr.mth == '07'].index)\n",
    "epex_spr =  epex_spr.drop(epex_spr[epex_spr.mth == '08'].index)\n",
    "epex_spr =  epex_spr.drop(epex_spr[epex_spr.mth == '09'].index)\n",
    "epex_spr =  epex_spr.drop(epex_spr[epex_spr.mth == '10'].index)\n",
    "epex_spr =  epex_spr.drop(epex_spr[epex_spr.mth == '11'].index)\n",
    "epex_spr =  epex_spr.drop(epex_spr[epex_spr.mth == '12'].index)\n",
    "\n",
    "# calculates spring average price\n",
    "expec_yr.append(epex_spr['apx_da_hourly'].mean())"
   ]
  },
  {
   "cell_type": "code",
   "execution_count": 8,
   "metadata": {},
   "outputs": [
    {
     "data": {
      "text/plain": [
       "54.26209692028977"
      ]
     },
     "execution_count": 8,
     "metadata": {},
     "output_type": "execute_result"
    }
   ],
   "source": [
    "#summer\n",
    "epex_sum = epex\n",
    "\n",
    "epex_sum =  epex_sum.drop(epex_sum[epex_sum.mth == '01'].index)\n",
    "epex_sum =  epex_sum.drop(epex_sum[epex_sum.mth == '02'].index)\n",
    "epex_sum =  epex_sum.drop(epex_sum[epex_sum.mth == '03'].index)\n",
    "epex_sum =  epex_sum.drop(epex_sum[epex_sum.mth == '04'].index)\n",
    "epex_sum =  epex_sum.drop(epex_sum[epex_sum.mth == '05'].index)\n",
    "epex_sum =  epex_sum.drop(epex_sum[epex_sum.mth == '09'].index)\n",
    "epex_sum =  epex_sum.drop(epex_sum[epex_sum.mth == '10'].index)\n",
    "epex_sum =  epex_sum.drop(epex_sum[epex_sum.mth == '11'].index)\n",
    "epex_sum =  epex_sum.drop(epex_sum[epex_sum.mth == '12'].index)\n",
    "\n",
    "# calculates summer average price\n",
    "expec_yr.append(epex_sum['apx_da_hourly'].mean())"
   ]
  },
  {
   "cell_type": "code",
   "execution_count": 9,
   "metadata": {},
   "outputs": [
    {
     "data": {
      "text/plain": [
       "89.5184065934067"
      ]
     },
     "execution_count": 9,
     "metadata": {},
     "output_type": "execute_result"
    }
   ],
   "source": [
    "#automn\n",
    "epex_aut = epex\n",
    "\n",
    "epex_aut =  epex_aut.drop(epex_aut[epex_aut.mth == '01'].index)\n",
    "epex_aut =  epex_aut.drop(epex_aut[epex_aut.mth == '02'].index)\n",
    "epex_aut =  epex_aut.drop(epex_aut[epex_aut.mth == '03'].index)\n",
    "epex_aut =  epex_aut.drop(epex_aut[epex_aut.mth == '04'].index)\n",
    "epex_aut =  epex_aut.drop(epex_aut[epex_aut.mth == '05'].index)\n",
    "epex_aut =  epex_aut.drop(epex_aut[epex_aut.mth == '06'].index)\n",
    "epex_aut =  epex_aut.drop(epex_aut[epex_aut.mth == '07'].index)\n",
    "epex_aut =  epex_aut.drop(epex_aut[epex_aut.mth == '08'].index)\n",
    "epex_aut =  epex_aut.drop(epex_aut[epex_aut.mth == '12'].index)\n",
    "\n",
    "# calculates autumn average price\n",
    "expec_yr.append(epex_aut['apx_da_hourly'].mean())"
   ]
  },
  {
   "cell_type": "code",
   "execution_count": 34,
   "metadata": {},
   "outputs": [
    {
     "ename": "NameError",
     "evalue": "name 'expec_yr' is not defined",
     "output_type": "error",
     "traceback": [
      "\u001b[0;31m---------------------------------------------------------------------------\u001b[0m",
      "\u001b[0;31mNameError\u001b[0m                                 Traceback (most recent call last)",
      "\u001b[0;32m<ipython-input-34-a91ad0755a51>\u001b[0m in \u001b[0;36m<module>\u001b[0;34m\u001b[0m\n\u001b[1;32m     13\u001b[0m \u001b[0;34m\u001b[0m\u001b[0m\n\u001b[1;32m     14\u001b[0m \u001b[0;31m# calculates winter average price\u001b[0m\u001b[0;34m\u001b[0m\u001b[0;34m\u001b[0m\u001b[0;34m\u001b[0m\u001b[0m\n\u001b[0;32m---> 15\u001b[0;31m \u001b[0mexpec_yr\u001b[0m\u001b[0;34m.\u001b[0m\u001b[0mappend\u001b[0m\u001b[0;34m(\u001b[0m\u001b[0mepex_win\u001b[0m\u001b[0;34m[\u001b[0m\u001b[0;34m'apx_da_hourly'\u001b[0m\u001b[0;34m]\u001b[0m\u001b[0;34m.\u001b[0m\u001b[0mmean\u001b[0m\u001b[0;34m(\u001b[0m\u001b[0;34m)\u001b[0m\u001b[0;34m)\u001b[0m\u001b[0;34m\u001b[0m\u001b[0;34m\u001b[0m\u001b[0m\n\u001b[0m\u001b[1;32m     16\u001b[0m \u001b[0mplt\u001b[0m\u001b[0;34m.\u001b[0m\u001b[0mplot\u001b[0m\u001b[0;34m(\u001b[0m\u001b[0;34m[\u001b[0m\u001b[0;34m'spring'\u001b[0m\u001b[0;34m,\u001b[0m\u001b[0;34m'summer'\u001b[0m\u001b[0;34m,\u001b[0m\u001b[0;34m'automn'\u001b[0m\u001b[0;34m,\u001b[0m\u001b[0;34m'winter'\u001b[0m\u001b[0;34m]\u001b[0m\u001b[0;34m,\u001b[0m \u001b[0mepex_month_mean\u001b[0m\u001b[0;34m)\u001b[0m\u001b[0;34m\u001b[0m\u001b[0;34m\u001b[0m\u001b[0m\n",
      "\u001b[0;31mNameError\u001b[0m: name 'expec_yr' is not defined"
     ]
    }
   ],
   "source": [
    "#winter\n",
    "epex_win = epex\n",
    "\n",
    "epex_win =  epex_win.drop(epex_win[epex_win.mth == '03'].index)\n",
    "epex_win =  epex_win.drop(epex_win[epex_win.mth == '04'].index)\n",
    "epex_win =  epex_win.drop(epex_win[epex_win.mth == '05'].index)\n",
    "epex_win =  epex_win.drop(epex_win[epex_win.mth == '06'].index)\n",
    "epex_win =  epex_win.drop(epex_win[epex_win.mth == '07'].index)\n",
    "epex_win =  epex_win.drop(epex_win[epex_win.mth == '08'].index)\n",
    "epex_win =  epex_win.drop(epex_win[epex_win.mth == '09'].index)\n",
    "epex_win =  epex_win.drop(epex_win[epex_win.mth == '10'].index)\n",
    "epex_win =  epex_win.drop(epex_win[epex_win.mth == '11'].index)\n",
    "\n",
    "# calculates winter average price\n",
    "expec_yr.append(epex_win['apx_da_hourly'].mean())\n",
    "plt.plot(['spring','summer','automn','winter'], epex_month_mean)"
   ]
  },
  {
   "cell_type": "code",
   "execution_count": 11,
   "metadata": {
    "scrolled": true
   },
   "outputs": [
    {
     "data": {
      "text/plain": [
       "[<matplotlib.lines.Line2D at 0x127df0cd0>]"
      ]
     },
     "execution_count": 11,
     "metadata": {},
     "output_type": "execute_result"
    },
    {
     "data": {
      "image/png": "[encoded data removed]",
      "text/plain": [
       "<Figure size 432x288 with 1 Axes>"
      ]
     },
     "metadata": {
      "needs_background": "light"
     },
     "output_type": "display_data"
    }
   ],
   "source": [
    "#mean price per month\n",
    "epex_month_mean = list()\n",
    "month = [1,2,3,4,5,6,7,8,9,10,11,12]\n",
    "epex_month_mean.append(epex[epex.mth=='01']['apx_da_hourly'].mean()) #jan\n",
    "epex_month_mean.append(epex[epex.mth=='02']['apx_da_hourly'].mean()) #feb\n",
    "epex_month_mean.append(epex[epex.mth=='03']['apx_da_hourly'].mean()) #mar\n",
    "epex_month_mean.append(epex[epex.mth=='04']['apx_da_hourly'].mean()) #apr\n",
    "epex_month_mean.append(epex[epex.mth=='05']['apx_da_hourly'].mean()) #mai\n",
    "epex_month_mean.append(epex[epex.mth=='06']['apx_da_hourly'].mean()) #jun\n",
    "epex_month_mean.append(epex[epex.mth=='07']['apx_da_hourly'].mean()) #jul\n",
    "epex_month_mean.append(epex[epex.mth=='08']['apx_da_hourly'].mean()) #aug\n",
    "epex_month_mean.append(epex[epex.mth=='09']['apx_da_hourly'].mean()) #sep\n",
    "epex_month_mean.append(epex[epex.mth=='10']['apx_da_hourly'].mean()) #oct\n",
    "epex_month_mean.append(epex[epex.mth=='11']['apx_da_hourly'].mean()) #nov\n",
    "epex_month_mean.append(epex[epex.mth=='12']['apx_da_hourly'].mean()) #dec\n",
    "                       \n",
    "epex_month_mean\n",
    "\n",
    "plt.plot(month, epex_month_mean)"
   ]
  },
  {
   "cell_type": "markdown",
   "metadata": {},
   "source": [
    "Here we clearly see that the average prices is much higher in the winter months than the other months. The low is in spring."
   ]
  },
  {
   "cell_type": "code",
   "execution_count": 12,
   "metadata": {
    "scrolled": true
   },
   "outputs": [
    {
     "data": {
      "text/plain": [
       "apx_da_hourly    float64\n",
       "h                  int64\n",
       "y                  int64\n",
       "mth                int64\n",
       "d                  int64\n",
       "dtype: object"
      ]
     },
     "execution_count": 12,
     "metadata": {},
     "output_type": "execute_result"
    }
   ],
   "source": [
    "# changing data types to feed into model\n",
    "epex['y'] = epex['y'].astype(int)\n",
    "epex['mth'] = epex['mth'].astype(int)\n",
    "epex['d'] = epex['d'].astype(int)\n",
    "epex['h'] = epex['h'].astype(int)\n",
    "epex.dtypes"
   ]
  },
  {
   "cell_type": "code",
   "execution_count": 13,
   "metadata": {},
   "outputs": [
    {
     "data": {
      "image/png": "[encoded data removed]",
      "text/plain": [
       "<Figure size 432x288 with 1 Axes>"
      ]
     },
     "metadata": {
      "needs_background": "light"
     },
     "output_type": "display_data"
    }
   ],
   "source": [
    "# prices per year\n",
    "plt.scatter(epex['y'], epex['apx_da_hourly'], s=1)\n",
    "#plt.figure(figsize=(100,100))\n",
    "plt.show()"
   ]
  },
  {
   "cell_type": "code",
   "execution_count": 14,
   "metadata": {},
   "outputs": [
    {
     "data": {
      "image/png": "[encoded data removed]",
      "text/plain": [
       "<Figure size 432x288 with 1 Axes>"
      ]
     },
     "metadata": {
      "needs_background": "light"
     },
     "output_type": "display_data"
    }
   ],
   "source": [
    "# prices per month\n",
    "plt.scatter(epex['mth'], epex['apx_da_hourly'], s=1)\n",
    "#plt.figure(figsize=(100,100))\n",
    "plt.show()"
   ]
  },
  {
   "cell_type": "code",
   "execution_count": 15,
   "metadata": {
    "scrolled": false
   },
   "outputs": [
    {
     "data": {
      "image/png": "[encoded data removed]",
      "text/plain": [
       "<Figure size 432x288 with 1 Axes>"
      ]
     },
     "metadata": {
      "needs_background": "light"
     },
     "output_type": "display_data"
    }
   ],
   "source": [
    "# prices per hour\n",
    "plt.scatter(epex['h'], epex['apx_da_hourly'], s=1)\n",
    "#plt.figure(figsize=(100,100))\n",
    "plt.show()"
   ]
  },
  {
   "cell_type": "markdown",
   "metadata": {},
   "source": [
    "We see that a lot of the extreme price jumps occur in the evening hours between 4pm and 8pm."
   ]
  },
  {
   "cell_type": "code",
   "execution_count": 33,
   "metadata": {
    "scrolled": true
   },
   "outputs": [
    {
     "data": {
      "text/plain": [
       "(array([ 27.,   7.,   2.,   0.,   0.,   0.,   1., 181., 274., 705.]),\n",
       " array([ 1. ,  2.1,  3.2,  4.3,  5.4,  6.5,  7.6,  8.7,  9.8, 10.9, 12. ]),\n",
       " <BarContainer object of 10 artists>)"
      ]
     },
     "execution_count": 33,
     "metadata": {},
     "output_type": "execute_result"
    },
    {
     "data": {
      "image/png": "[encoded data removed]",
      "text/plain": [
       "<Figure size 432x288 with 1 Axes>"
      ]
     },
     "metadata": {
      "needs_background": "light"
     },
     "output_type": "display_data"
    }
   ],
   "source": [
    "#extreme values - we look at 95% quartile\n",
    "extr = []\n",
    "epex.quantile([0.95]) #5% of values ar elarger than 187.4, these are considered as extreme value\n",
    "\n",
    "for i in range(0,47856,2):\n",
    "    if epex['apx_da_hourly'][i] >= 187.4:\n",
    "        extr.append(epex['mth'][i])\n",
    "#print(extr)\n",
    "plt.hist(extr)"
   ]
  },
  {
   "cell_type": "markdown",
   "metadata": {},
   "source": [
    "We investigated when the big price jumps occured. We notice that the big price jumps usually occur in the winter."
   ]
  },
  {
   "cell_type": "code",
   "execution_count": 16,
   "metadata": {},
   "outputs": [
    {
     "name": "stdout",
     "output_type": "stream",
     "text": [
      "                            OLS Regression Results                            \n",
      "==============================================================================\n",
      "Dep. Variable:          apx_da_hourly   R-squared:                       0.399\n",
      "Model:                            OLS   Adj. R-squared:                  0.399\n",
      "Method:                 Least Squares   F-statistic:                     1224.\n",
      "Date:                Sun, 13 Mar 2022   Prob (F-statistic):               0.00\n",
      "Time:                        11:05:18   Log-Likelihood:            -1.3006e+05\n",
      "No. Observations:               23929   AIC:                         2.601e+05\n",
      "Df Residuals:                   23915   BIC:                         2.603e+05\n",
      "Df Model:                          13                                         \n",
      "Covariance Type:            nonrobust                                         \n",
      "==============================================================================\n",
      "                 coef    std err          t      P>|t|      [0.025      0.975]\n",
      "------------------------------------------------------------------------------\n",
      "Intercept   2.009e+04   2441.669      8.226      0.000    1.53e+04    2.49e+04\n",
      "y             -9.9370      1.209     -8.222      0.000     -12.306      -7.568\n",
      "mth ^ 2    -4161.4201    461.758     -9.012      0.000   -5066.495   -3256.345\n",
      "y:mth ^ 2      2.0610      0.229      9.016      0.000       1.613       2.509\n",
      "mth        -1.133e+04    528.359    -21.435      0.000   -1.24e+04   -1.03e+04\n",
      "y:mth          5.6084      0.262     21.443      0.000       5.096       6.121\n",
      "d ^ 2         -1.1599      0.417     -2.782      0.005      -1.977      -0.343\n",
      "mth:d ^ 2      0.1372      0.055      2.508      0.012       0.030       0.244\n",
      "d              0.9339      0.430      2.170      0.030       0.090       1.777\n",
      "mth:d         -0.0904      0.056     -1.621      0.105      -0.200       0.019\n",
      "h ^ 2          1.0077      0.371      2.719      0.007       0.281       1.734\n",
      "d:h ^ 2       -0.0032      0.021     -0.154      0.878      -0.044       0.037\n",
      "h              0.2356      0.371      0.636      0.525      -0.491       0.962\n",
      "d:h           -0.0057      0.021     -0.275      0.783      -0.046       0.035\n",
      "==============================================================================\n",
      "Omnibus:                    41300.666   Durbin-Watson:                   0.350\n",
      "Prob(Omnibus):                  0.000   Jarque-Bera (JB):         64323949.415\n",
      "Skew:                          11.950   Prob(JB):                         0.00\n",
      "Kurtosis:                     255.871   Cond. No.                     1.51e+08\n",
      "==============================================================================\n",
      "\n",
      "Warnings:\n",
      "[1] Standard Errors assume that the covariance matrix of the errors is correctly specified.\n",
      "[2] The condition number is large, 1.51e+08. This might indicate that there are\n",
      "strong multicollinearity or other numerical problems.\n"
     ]
    }
   ],
   "source": [
    "# initial regression model with all combinations of variables\n",
    "epexm1 = smf.ols(formula = 'apx_da_hourly ~ y*mth^2 + y*mth + mth*d^2 + mth*d + d*h^2 + d*h', data=epex).fit()\n",
    "print(epexm1.summary())"
   ]
  },
  {
   "cell_type": "code",
   "execution_count": 17,
   "metadata": {},
   "outputs": [
    {
     "name": "stdout",
     "output_type": "stream",
     "text": [
      "                            OLS Regression Results                            \n",
      "==============================================================================\n",
      "Dep. Variable:          apx_da_hourly   R-squared:                       0.399\n",
      "Model:                            OLS   Adj. R-squared:                  0.399\n",
      "Method:                 Least Squares   F-statistic:                     1591.\n",
      "Date:                Sun, 13 Mar 2022   Prob (F-statistic):               0.00\n",
      "Time:                        11:05:18   Log-Likelihood:            -1.3006e+05\n",
      "No. Observations:               23929   AIC:                         2.601e+05\n",
      "Df Residuals:                   23918   BIC:                         2.602e+05\n",
      "Df Model:                          10                                         \n",
      "Covariance Type:            nonrobust                                         \n",
      "==============================================================================\n",
      "                 coef    std err          t      P>|t|      [0.025      0.975]\n",
      "------------------------------------------------------------------------------\n",
      "Intercept   2.009e+04   2441.662      8.226      0.000    1.53e+04    2.49e+04\n",
      "y             -9.9365      1.209     -8.222      0.000     -12.305      -7.568\n",
      "mth ^ 2    -4161.3161    461.757     -9.012      0.000   -5066.389   -3256.243\n",
      "y:mth ^ 2      2.0609      0.229      9.016      0.000       1.613       2.509\n",
      "mth        -1.133e+04    528.358    -21.435      0.000   -1.24e+04   -1.03e+04\n",
      "y:mth          5.6084      0.262     21.443      0.000       5.096       6.121\n",
      "d ^ 2         -1.1599      0.417     -2.781      0.005      -1.977      -0.343\n",
      "mth:d ^ 2      0.1372      0.055      2.508      0.012       0.030       0.244\n",
      "d              0.8319      0.425      1.958      0.050      -0.001       1.665\n",
      "mth:d         -0.0904      0.056     -1.621      0.105      -0.200       0.019\n",
      "h ^ 2          1.0986      0.052     21.194      0.000       0.997       1.200\n",
      "==============================================================================\n",
      "Omnibus:                    41298.696   Durbin-Watson:                   0.350\n",
      "Prob(Omnibus):                  0.000   Jarque-Bera (JB):         64297943.524\n",
      "Skew:                          11.949   Prob(JB):                         0.00\n",
      "Kurtosis:                     255.819   Cond. No.                     1.51e+08\n",
      "==============================================================================\n",
      "\n",
      "Warnings:\n",
      "[1] Standard Errors assume that the covariance matrix of the errors is correctly specified.\n",
      "[2] The condition number is large, 1.51e+08. This might indicate that there are\n",
      "strong multicollinearity or other numerical problems.\n"
     ]
    }
   ],
   "source": [
    "# forward stepwise regression to drop variables\n",
    "epexm1 = smf.ols(formula = 'apx_da_hourly ~ y*mth^2 + y*mth + mth*d^2 + mth*d + h^2', data=epex).fit()\n",
    "print(epexm1.summary())"
   ]
  },
  {
   "cell_type": "code",
   "execution_count": 18,
   "metadata": {},
   "outputs": [
    {
     "data": {
      "text/html": [
       "<div>\n",
       "<style scoped>\n",
       "    .dataframe tbody tr th:only-of-type {\n",
       "        vertical-align: middle;\n",
       "    }\n",
       "\n",
       "    .dataframe tbody tr th {\n",
       "        vertical-align: top;\n",
       "    }\n",
       "\n",
       "    .dataframe thead th {\n",
       "        text-align: right;\n",
       "    }\n",
       "</style>\n",
       "<table border=\"1\" class=\"dataframe\">\n",
       "  <thead>\n",
       "    <tr style=\"text-align: right;\">\n",
       "      <th></th>\n",
       "      <th>apx_da_hourly</th>\n",
       "      <th>h</th>\n",
       "      <th>y</th>\n",
       "      <th>mth</th>\n",
       "      <th>d</th>\n",
       "      <th>y^2</th>\n",
       "      <th>mth^2</th>\n",
       "      <th>d^2</th>\n",
       "      <th>h^2</th>\n",
       "      <th>y:mth</th>\n",
       "      <th>mth:d</th>\n",
       "      <th>y:mth^2</th>\n",
       "      <th>mth:d^2</th>\n",
       "      <th>d:h^2</th>\n",
       "    </tr>\n",
       "  </thead>\n",
       "  <tbody>\n",
       "    <tr>\n",
       "      <th>0</th>\n",
       "      <td>26.43</td>\n",
       "      <td>23</td>\n",
       "      <td>2019</td>\n",
       "      <td>3</td>\n",
       "      <td>31</td>\n",
       "      <td>4076361</td>\n",
       "      <td>9</td>\n",
       "      <td>961</td>\n",
       "      <td>529</td>\n",
       "      <td>6057</td>\n",
       "      <td>6057</td>\n",
       "      <td>36687249</td>\n",
       "      <td>8649</td>\n",
       "      <td>508369</td>\n",
       "    </tr>\n",
       "    <tr>\n",
       "      <th>2</th>\n",
       "      <td>29.24</td>\n",
       "      <td>0</td>\n",
       "      <td>2019</td>\n",
       "      <td>4</td>\n",
       "      <td>1</td>\n",
       "      <td>4076361</td>\n",
       "      <td>16</td>\n",
       "      <td>1</td>\n",
       "      <td>0</td>\n",
       "      <td>8076</td>\n",
       "      <td>8076</td>\n",
       "      <td>65221776</td>\n",
       "      <td>16</td>\n",
       "      <td>0</td>\n",
       "    </tr>\n",
       "    <tr>\n",
       "      <th>4</th>\n",
       "      <td>35.10</td>\n",
       "      <td>1</td>\n",
       "      <td>2019</td>\n",
       "      <td>4</td>\n",
       "      <td>1</td>\n",
       "      <td>4076361</td>\n",
       "      <td>16</td>\n",
       "      <td>1</td>\n",
       "      <td>1</td>\n",
       "      <td>8076</td>\n",
       "      <td>8076</td>\n",
       "      <td>65221776</td>\n",
       "      <td>16</td>\n",
       "      <td>1</td>\n",
       "    </tr>\n",
       "    <tr>\n",
       "      <th>6</th>\n",
       "      <td>30.91</td>\n",
       "      <td>2</td>\n",
       "      <td>2019</td>\n",
       "      <td>4</td>\n",
       "      <td>1</td>\n",
       "      <td>4076361</td>\n",
       "      <td>16</td>\n",
       "      <td>1</td>\n",
       "      <td>4</td>\n",
       "      <td>8076</td>\n",
       "      <td>8076</td>\n",
       "      <td>65221776</td>\n",
       "      <td>16</td>\n",
       "      <td>4</td>\n",
       "    </tr>\n",
       "    <tr>\n",
       "      <th>8</th>\n",
       "      <td>32.26</td>\n",
       "      <td>3</td>\n",
       "      <td>2019</td>\n",
       "      <td>4</td>\n",
       "      <td>1</td>\n",
       "      <td>4076361</td>\n",
       "      <td>16</td>\n",
       "      <td>1</td>\n",
       "      <td>9</td>\n",
       "      <td>8076</td>\n",
       "      <td>8076</td>\n",
       "      <td>65221776</td>\n",
       "      <td>16</td>\n",
       "      <td>9</td>\n",
       "    </tr>\n",
       "    <tr>\n",
       "      <th>...</th>\n",
       "      <td>...</td>\n",
       "      <td>...</td>\n",
       "      <td>...</td>\n",
       "      <td>...</td>\n",
       "      <td>...</td>\n",
       "      <td>...</td>\n",
       "      <td>...</td>\n",
       "      <td>...</td>\n",
       "      <td>...</td>\n",
       "      <td>...</td>\n",
       "      <td>...</td>\n",
       "      <td>...</td>\n",
       "      <td>...</td>\n",
       "      <td>...</td>\n",
       "    </tr>\n",
       "    <tr>\n",
       "      <th>47848</th>\n",
       "      <td>360.60</td>\n",
       "      <td>19</td>\n",
       "      <td>2021</td>\n",
       "      <td>12</td>\n",
       "      <td>22</td>\n",
       "      <td>4084441</td>\n",
       "      <td>144</td>\n",
       "      <td>484</td>\n",
       "      <td>361</td>\n",
       "      <td>24252</td>\n",
       "      <td>24252</td>\n",
       "      <td>588159504</td>\n",
       "      <td>69696</td>\n",
       "      <td>174724</td>\n",
       "    </tr>\n",
       "    <tr>\n",
       "      <th>47850</th>\n",
       "      <td>318.40</td>\n",
       "      <td>20</td>\n",
       "      <td>2021</td>\n",
       "      <td>12</td>\n",
       "      <td>22</td>\n",
       "      <td>4084441</td>\n",
       "      <td>144</td>\n",
       "      <td>484</td>\n",
       "      <td>400</td>\n",
       "      <td>24252</td>\n",
       "      <td>24252</td>\n",
       "      <td>588159504</td>\n",
       "      <td>69696</td>\n",
       "      <td>193600</td>\n",
       "    </tr>\n",
       "    <tr>\n",
       "      <th>47852</th>\n",
       "      <td>315.00</td>\n",
       "      <td>21</td>\n",
       "      <td>2021</td>\n",
       "      <td>12</td>\n",
       "      <td>22</td>\n",
       "      <td>4084441</td>\n",
       "      <td>144</td>\n",
       "      <td>484</td>\n",
       "      <td>441</td>\n",
       "      <td>24252</td>\n",
       "      <td>24252</td>\n",
       "      <td>588159504</td>\n",
       "      <td>69696</td>\n",
       "      <td>213444</td>\n",
       "    </tr>\n",
       "    <tr>\n",
       "      <th>47854</th>\n",
       "      <td>276.85</td>\n",
       "      <td>22</td>\n",
       "      <td>2021</td>\n",
       "      <td>12</td>\n",
       "      <td>22</td>\n",
       "      <td>4084441</td>\n",
       "      <td>144</td>\n",
       "      <td>484</td>\n",
       "      <td>484</td>\n",
       "      <td>24252</td>\n",
       "      <td>24252</td>\n",
       "      <td>588159504</td>\n",
       "      <td>69696</td>\n",
       "      <td>234256</td>\n",
       "    </tr>\n",
       "    <tr>\n",
       "      <th>47856</th>\n",
       "      <td>325.40</td>\n",
       "      <td>23</td>\n",
       "      <td>2021</td>\n",
       "      <td>12</td>\n",
       "      <td>22</td>\n",
       "      <td>4084441</td>\n",
       "      <td>144</td>\n",
       "      <td>484</td>\n",
       "      <td>529</td>\n",
       "      <td>24252</td>\n",
       "      <td>24252</td>\n",
       "      <td>588159504</td>\n",
       "      <td>69696</td>\n",
       "      <td>256036</td>\n",
       "    </tr>\n",
       "  </tbody>\n",
       "</table>\n",
       "<p>23929 rows × 14 columns</p>\n",
       "</div>"
      ],
      "text/plain": [
       "       apx_da_hourly   h     y  mth   d      y^2  mth^2  d^2  h^2  y:mth  \\\n",
       "0              26.43  23  2019    3  31  4076361      9  961  529   6057   \n",
       "2              29.24   0  2019    4   1  4076361     16    1    0   8076   \n",
       "4              35.10   1  2019    4   1  4076361     16    1    1   8076   \n",
       "6              30.91   2  2019    4   1  4076361     16    1    4   8076   \n",
       "8              32.26   3  2019    4   1  4076361     16    1    9   8076   \n",
       "...              ...  ..   ...  ...  ..      ...    ...  ...  ...    ...   \n",
       "47848         360.60  19  2021   12  22  4084441    144  484  361  24252   \n",
       "47850         318.40  20  2021   12  22  4084441    144  484  400  24252   \n",
       "47852         315.00  21  2021   12  22  4084441    144  484  441  24252   \n",
       "47854         276.85  22  2021   12  22  4084441    144  484  484  24252   \n",
       "47856         325.40  23  2021   12  22  4084441    144  484  529  24252   \n",
       "\n",
       "       mth:d    y:mth^2  mth:d^2   d:h^2  \n",
       "0       6057   36687249     8649  508369  \n",
       "2       8076   65221776       16       0  \n",
       "4       8076   65221776       16       1  \n",
       "6       8076   65221776       16       4  \n",
       "8       8076   65221776       16       9  \n",
       "...      ...        ...      ...     ...  \n",
       "47848  24252  588159504    69696  174724  \n",
       "47850  24252  588159504    69696  193600  \n",
       "47852  24252  588159504    69696  213444  \n",
       "47854  24252  588159504    69696  234256  \n",
       "47856  24252  588159504    69696  256036  \n",
       "\n",
       "[23929 rows x 14 columns]"
      ]
     },
     "execution_count": 18,
     "metadata": {},
     "output_type": "execute_result"
    }
   ],
   "source": [
    "# adding interaction terms and square terms as columns to epex\n",
    "epex['y^2'] = epex['y'] ** 2\n",
    "epex['mth^2'] = epex['mth'] ** 2\n",
    "epex['d^2'] = epex['d'] ** 2\n",
    "epex['h^2'] = epex['h'] ** 2\n",
    "epex['y:mth'] = epex['y'] * epex['mth']\n",
    "epex['mth:d'] = epex['y'] * epex['mth']\n",
    "epex['y:mth^2'] = (epex['y'] * epex['mth']) ** 2\n",
    "epex['mth:d^2'] = (epex['mth'] * epex['d']) ** 2\n",
    "epex['d:h^2'] = (epex['d'] * epex['h']) ** 2\n",
    "epex"
   ]
  },
  {
   "cell_type": "code",
   "execution_count": 19,
   "metadata": {},
   "outputs": [],
   "source": [
    "#80-20 splits of data training and test dataset\n",
    "from sklearn.model_selection import train_test_split\n",
    "X_columns = ['y', 'y:mth^2', 'y:mth', 'd^2', 'mth:d^2', 'd', 'mth:d', 'h^2']\n",
    "X_train, X_test, y_train, y_test = train_test_split(epex[X_columns], epex['apx_da_hourly'], test_size=0.2, random_state=0)"
   ]
  },
  {
   "cell_type": "code",
   "execution_count": 20,
   "metadata": {},
   "outputs": [
    {
     "data": {
      "text/plain": [
       "LinearRegression()"
      ]
     },
     "execution_count": 20,
     "metadata": {},
     "output_type": "execute_result"
    }
   ],
   "source": [
    "#trains model\n",
    "from sklearn.linear_model import LinearRegression\n",
    "model = LinearRegression()  \n",
    "model.fit(X_train, y_train)"
   ]
  },
  {
   "cell_type": "code",
   "execution_count": 21,
   "metadata": {},
   "outputs": [
    {
     "data": {
      "text/html": [
       "<div>\n",
       "<style scoped>\n",
       "    .dataframe tbody tr th:only-of-type {\n",
       "        vertical-align: middle;\n",
       "    }\n",
       "\n",
       "    .dataframe tbody tr th {\n",
       "        vertical-align: top;\n",
       "    }\n",
       "\n",
       "    .dataframe thead th {\n",
       "        text-align: right;\n",
       "    }\n",
       "</style>\n",
       "<table border=\"1\" class=\"dataframe\">\n",
       "  <thead>\n",
       "    <tr style=\"text-align: right;\">\n",
       "      <th></th>\n",
       "      <th>variable</th>\n",
       "      <th>coefficient</th>\n",
       "      <th>intercept</th>\n",
       "    </tr>\n",
       "  </thead>\n",
       "  <tbody>\n",
       "    <tr>\n",
       "      <th>0</th>\n",
       "      <td>y</td>\n",
       "      <td>4.534060e+01</td>\n",
       "      <td>-91580.338661</td>\n",
       "    </tr>\n",
       "    <tr>\n",
       "      <th>1</th>\n",
       "      <td>y:mth^2</td>\n",
       "      <td>1.136437e-07</td>\n",
       "      <td>-91580.338661</td>\n",
       "    </tr>\n",
       "    <tr>\n",
       "      <th>2</th>\n",
       "      <td>y:mth</td>\n",
       "      <td>4.715160e-04</td>\n",
       "      <td>-91580.338661</td>\n",
       "    </tr>\n",
       "    <tr>\n",
       "      <th>3</th>\n",
       "      <td>d^2</td>\n",
       "      <td>-4.596944e-02</td>\n",
       "      <td>-91580.338661</td>\n",
       "    </tr>\n",
       "    <tr>\n",
       "      <th>4</th>\n",
       "      <td>mth:d^2</td>\n",
       "      <td>-4.635079e-05</td>\n",
       "      <td>-91580.338661</td>\n",
       "    </tr>\n",
       "    <tr>\n",
       "      <th>5</th>\n",
       "      <td>d</td>\n",
       "      <td>1.509731e+00</td>\n",
       "      <td>-91580.338661</td>\n",
       "    </tr>\n",
       "    <tr>\n",
       "      <th>6</th>\n",
       "      <td>mth:d</td>\n",
       "      <td>4.715159e-04</td>\n",
       "      <td>-91580.338661</td>\n",
       "    </tr>\n",
       "    <tr>\n",
       "      <th>7</th>\n",
       "      <td>h^2</td>\n",
       "      <td>3.268667e-02</td>\n",
       "      <td>-91580.338661</td>\n",
       "    </tr>\n",
       "  </tbody>\n",
       "</table>\n",
       "</div>"
      ],
      "text/plain": [
       "  variable   coefficient     intercept\n",
       "0        y  4.534060e+01 -91580.338661\n",
       "1  y:mth^2  1.136437e-07 -91580.338661\n",
       "2    y:mth  4.715160e-04 -91580.338661\n",
       "3      d^2 -4.596944e-02 -91580.338661\n",
       "4  mth:d^2 -4.635079e-05 -91580.338661\n",
       "5        d  1.509731e+00 -91580.338661\n",
       "6    mth:d  4.715159e-04 -91580.338661\n",
       "7      h^2  3.268667e-02 -91580.338661"
      ]
     },
     "execution_count": 21,
     "metadata": {},
     "output_type": "execute_result"
    }
   ],
   "source": [
    "# retrieves coefficient and intercept values for each regressor variable\n",
    "Coeff = pd.DataFrame({\n",
    "    'variable': X_train.columns, \n",
    "    'coefficient': model.coef_,\n",
    "    'intercept': model.intercept_\n",
    "})\n",
    "Coeff"
   ]
  },
  {
   "cell_type": "code",
   "execution_count": 22,
   "metadata": {},
   "outputs": [
    {
     "name": "stdout",
     "output_type": "stream",
     "text": [
      "[ -5.45589106  66.21063328   7.38184886 ...  78.89490877  95.27157541\n",
      " 167.67577233]\n"
     ]
    }
   ],
   "source": [
    "#prints preview of price predictions made by linear regression model\n",
    "y_pred = model.predict(X_test)\n",
    "print(y_pred)"
   ]
  },
  {
   "cell_type": "code",
   "execution_count": 23,
   "metadata": {},
   "outputs": [
    {
     "data": {
      "text/plain": [
       "0.31027258408485536"
      ]
     },
     "execution_count": 23,
     "metadata": {},
     "output_type": "execute_result"
    }
   ],
   "source": [
    "#calculates R value\n",
    "model.score(X_test, y_test)"
   ]
  },
  {
   "cell_type": "code",
   "execution_count": 24,
   "metadata": {},
   "outputs": [
    {
     "data": {
      "text/plain": [
       "-91580.33866117799"
      ]
     },
     "execution_count": 24,
     "metadata": {},
     "output_type": "execute_result"
    }
   ],
   "source": [
    "#calculates intercept of line of best fit\n",
    "model.intercept_"
   ]
  },
  {
   "cell_type": "code",
   "execution_count": 25,
   "metadata": {},
   "outputs": [
    {
     "data": {
      "text/plain": [
       "[<matplotlib.lines.Line2D at 0x12918c880>]"
      ]
     },
     "execution_count": 25,
     "metadata": {},
     "output_type": "execute_result"
    },
    {
     "data": {
      "image/png": "[encoded data removed]",
      "text/plain": [
       "<Figure size 1080x720 with 1 Axes>"
      ]
     },
     "metadata": {
      "needs_background": "light"
     },
     "output_type": "display_data"
    }
   ],
   "source": [
    "#sets up plot\n",
    "plt.figure(figsize=(15,10))\n",
    "x = np.linspace(0, y_pred.max())\n",
    "plt.margins(x=0)\n",
    "\n",
    "#graphs the actual vs prediction \n",
    "plt.scatter(y_test, y_pred)\n",
    "\n",
    "#displays line of best fit using model.score and model.intercept\n",
    "plt.plot(\n",
    "    x + model.score(X_test, y_test),\n",
    "    x, \n",
    "    linewidth=2, \n",
    "    markersize=12, \n",
    "    color='r'\n",
    ")"
   ]
  },
  {
   "cell_type": "code",
   "execution_count": 26,
   "metadata": {},
   "outputs": [
    {
     "data": {
      "text/plain": [
       "array([ 4.53406000e+01,  1.13643701e-07,  4.71516034e-04, -4.59694377e-02,\n",
       "       -4.63507912e-05,  1.50973063e+00,  4.71515917e-04,  3.26866734e-02])"
      ]
     },
     "execution_count": 26,
     "metadata": {},
     "output_type": "execute_result"
    }
   ],
   "source": [
    "model.coef_"
   ]
  },
  {
   "cell_type": "code",
   "execution_count": 27,
   "metadata": {},
   "outputs": [],
   "source": [
    "# Price prediction for 2022-03-13\n",
    "date_y = 2022\n",
    "date_m = 3\n",
    "date_d = 13\n",
    "beta_0 = model.coef_[0]*date_y + model.coef_[1]*((date_y*date_m)**2) + model.coef_[2]*(date_y*date_m) + model.coef_[3]*(date_d^2) + model.coef_[6]*((date_m*date_d)**2) + model.coef_[5]*date_d + model.coef_[6]*(date_m*date_d) + model.intercept_"
   ]
  },
  {
   "cell_type": "code",
   "execution_count": 28,
   "metadata": {},
   "outputs": [
    {
     "name": "stdout",
     "output_type": "stream",
     "text": [
      "0 125.069\n",
      "1 125.102\n",
      "2 125.2\n",
      "3 125.363\n",
      "4 125.592\n",
      "5 125.886\n",
      "6 126.246\n",
      "7 126.671\n",
      "8 127.161\n",
      "9 127.717\n",
      "10 128.338\n",
      "11 129.024\n",
      "12 129.776\n",
      "13 130.593\n",
      "14 131.475\n",
      "15 132.423\n",
      "16 133.437\n",
      "17 134.515\n",
      "18 135.659\n",
      "19 136.869\n",
      "20 138.144\n",
      "21 139.484\n",
      "22 140.889\n",
      "23 142.36\n"
     ]
    }
   ],
   "source": [
    "# price prediction for each hour of the day using regression model apx_da_hourly = 120.887 + 0.0326h^2\n",
    "for i in range(0, 24):\n",
    "    print(i, round(beta_0 + (model.coef_[-1] * i**2), 3))"
   ]
  },
  {
   "cell_type": "code",
   "execution_count": 29,
   "metadata": {},
   "outputs": [
    {
     "data": {
      "text/plain": [
       "<function matplotlib.pyplot.show(close=None, block=None)>"
      ]
     },
     "execution_count": 29,
     "metadata": {},
     "output_type": "execute_result"
    },
    {
     "data": {
      "image/png": "[encoded data removed]",
      "text/plain": [
       "<Figure size 432x288 with 1 Axes>"
      ]
     },
     "metadata": {
      "needs_background": "light"
     },
     "output_type": "display_data"
    }
   ],
   "source": [
    "# (using AMPL for optimisation code) these are the buy/sell decisions at each hour. \n",
    "# Using our model we buy at 11pm and sell the next day at 10pm.\n",
    "hour = [23,0,1,2,3,4,5,6,7,8,9,10,11,12,13,14,15,16,17,18,19,20,21,22]\n",
    "battery = [1,1,1,1,1,1,1,1,1,1,1,1,1,1,1,1,1,1,1,1,1,1,1,0]\n",
    "plt.scatter(hour, battery)\n",
    "plt.show"
   ]
  },
  {
   "cell_type": "code",
   "execution_count": 30,
   "metadata": {},
   "outputs": [
    {
     "data": {
      "text/plain": [
       "<function matplotlib.pyplot.show(close=None, block=None)>"
      ]
     },
     "execution_count": 30,
     "metadata": {},
     "output_type": "execute_result"
    },
    {
     "data": {
      "image/png": "[encoded data removed]",
      "text/plain": [
       "<Figure size 432x288 with 1 Axes>"
      ]
     },
     "metadata": {
      "needs_background": "light"
     },
     "output_type": "display_data"
    }
   ],
   "source": [
    "# Using the real prices on 13/03/2022 the model suggests to buy and sell at these times:\n",
    "hour = [23,0,1,2,3,4,5,6,7,8,9,10,11,12,13,14,15,16,17,18,19,20,21,22]\n",
    "battery = [1,1,0,1,0,0,1,1,1,0,1,0,0,1,1,0,1,1,0,0,0,1,0,0]\n",
    "plt.scatter(hour, battery)\n",
    "plt.show"
   ]
  },
  {
   "cell_type": "markdown",
   "metadata": {},
   "source": [
    "Thank you for reading."
   ]
  }
 ],
 "metadata": {
  "kernelspec": {
   "display_name": "Python 3",
   "language": "python",
   "name": "python3"
  },
  "language_info": {
   "codemirror_mode": {
    "name": "ipython",
    "version": 3
   },
   "file_extension": ".py",
   "mimetype": "text/x-python",
   "name": "python",
   "nbconvert_exporter": "python",
   "pygments_lexer": "ipython3",
   "version": "3.8.3"
  }
 },
 "nbformat": 4,
 "nbformat_minor": 4
}
